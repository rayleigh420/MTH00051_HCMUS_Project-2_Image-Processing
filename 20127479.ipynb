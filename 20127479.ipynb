{
  "nbformat": 4,
  "nbformat_minor": 0,
  "metadata": {
    "colab": {
      "name": "20127479.ipynb",
      "provenance": [],
      "collapsed_sections": []
    },
    "kernelspec": {
      "name": "python3",
      "display_name": "Python 3"
    },
    "language_info": {
      "name": "python"
    }
  },
  "cells": [
    {
      "cell_type": "code",
      "source": [
        "import numpy as np\n",
        "import matplotlib.pyplot as plt\n",
        "from PIL import Image\n",
        "import PIL"
      ],
      "metadata": {
        "id": "S392hwHBzySu"
      },
      "execution_count": 1,
      "outputs": []
    },
    {
      "cell_type": "code",
      "source": [
        "def convert_img(path):\n",
        "  return np.array(Image.open(path))"
      ],
      "metadata": {
        "id": "V4DOdoDDExPT"
      },
      "execution_count": 2,
      "outputs": []
    },
    {
      "cell_type": "code",
      "source": [
        "def change_brightness(path):\n",
        "  img_result = Image.fromarray((np.clip((convert_img(path) + float(25)), 0, 255)).astype(np.uint8))\n",
        "  name = path[:(path.find(\".\"))] + \"_brightness\" + path[(path.find(\".\")):]\n",
        "  img_result.save(name)\n",
        "  return img_result"
      ],
      "metadata": {
        "id": "m_8syawAM5Et"
      },
      "execution_count": 3,
      "outputs": []
    },
    {
      "cell_type": "code",
      "source": [
        "def change_contrast(path):\n",
        "  c = 40\n",
        "  f = (float)((259 * (c + 255)) / (255 * (259 - c)))\n",
        "  img = convert_img(path)\n",
        "  img = f * img + 128 * (1 - f)\n",
        "  img = np.clip(img, 0, 255)\n",
        "  img_result = Image.fromarray(img.astype(np.uint8))\n",
        "  name = path[:(path.find(\".\"))] + \"_contrast\" + path[(path.find(\".\")):]\n",
        "  img_result.save(name)\n",
        "  return img_result"
      ],
      "metadata": {
        "id": "04Qq_F07FExH"
      },
      "execution_count": 4,
      "outputs": []
    },
    {
      "cell_type": "code",
      "source": [
        "def flip_vertically(path):\n",
        "  img_result = convert_img(path)[::-1]\n",
        "  name = path[:(path.find(\".\"))] + \"_flip_vertically\" + path[(path.find(\".\")):]\n",
        "  plt.imsave(name, img_result)\n",
        "  return img_result\n",
        "\n",
        "def flip_horizontally(path):\n",
        "  img_result = convert_img(path)[:, ::-1]\n",
        "  name = path[:(path.find(\".\"))] + \"_flip_horizontally\" + path[(path.find(\".\")):]\n",
        "  plt.imsave(name, img_result)\n",
        "  return img_result"
      ],
      "metadata": {
        "id": "ZsffJrJbHso3"
      },
      "execution_count": 5,
      "outputs": []
    },
    {
      "cell_type": "code",
      "source": [
        "def grayscale(path, isSave = 0):\n",
        "  img_result = np.dot(convert_img(path)[...,:3], [0.2989, 0.5870, 0.1140])\n",
        "  if isSave == 0:\n",
        "    name = path[:(path.find(\".\"))] + \"_grayscale\" + path[(path.find(\".\")):]\n",
        "    plt.imsave(name, img_result, cmap = 'gray')\n",
        "  return img_result"
      ],
      "metadata": {
        "id": "hEvqlxTlKADB"
      },
      "execution_count": 6,
      "outputs": []
    },
    {
      "cell_type": "code",
      "source": [
        "def add_img(path1, path2):\n",
        "  img1 = grayscale(path1, 1)\n",
        "  img2 = grayscale(path2, 1)\n",
        "  img_result = Image.fromarray(np.clip(((img1 + img2) / 2), 0, 255).astype(np.uint8))\n",
        "  name = path1[:(path1.find(\".\"))] + \"_\" + path2[:(path2.find(\".\"))]+ \"_blend\" + path1[(path1.find(\".\")):]\n",
        "  img_result.save(name, cmap = 'gray')\n",
        "  return img_result"
      ],
      "metadata": {
        "id": "k4vGCDAYKTwe"
      },
      "execution_count": 7,
      "outputs": []
    },
    {
      "cell_type": "code",
      "source": [
        "def blur(path):\n",
        "    kernel_gs = np.array([[[1], [2], [1]],\n",
        "                       [[2], [4], [2]],\n",
        "                       [[1], [2], [1]]])\n",
        "    \n",
        "    img = convert_img(path)\n",
        "    img_copy = np.copy(img)\n",
        "    img_g = np.pad(img_copy, ((1, 1), (1, 1), (0, 0)))\n",
        "\n",
        "    for i in range(len(img)):\n",
        "        for j in range(len(img[0])):\n",
        "            img[i][j] = (img_g[i:i+3, j:j+3] * kernel_gs).sum(axis = 1).sum(axis = 0) / 16\n",
        "            \n",
        "    img_result = Image.fromarray(img.astype(np.uint8))\n",
        "    name = path[:(path.find(\".\"))] + \"_blur\" + path[(path.find(\".\")):]\n",
        "    img_result.save(name)\n",
        "    return img_result"
      ],
      "metadata": {
        "id": "OQ4GpUESSSpM"
      },
      "execution_count": 8,
      "outputs": []
    },
    {
      "cell_type": "code",
      "source": [
        "def main():\n",
        "  print('0. All')\n",
        "  print('1. Change brightness')\n",
        "  print('2. Change constract')\n",
        "  print('3. flip image ')\n",
        "  print('4. Convert to grayscale')\n",
        "  print('5. Add two image same size')\n",
        "  print('6. Blur image')\n",
        "  choice = int(input('Choose feature you want: '))\n",
        "\n",
        "  path1 = input('Enter path of first picture: ')\n",
        "\n",
        "  if choice == 0:\n",
        "    path2 = input('Enter path of second picture: ')\n",
        "    change_brightness(path1)\n",
        "    change_contrast(path1)\n",
        "    flip_horizontally(path1)\n",
        "    flip_vertically(path1)\n",
        "    grayscale(path1)\n",
        "    add_img(path1, path2)\n",
        "    blur(path1)\n",
        "  elif choice == 1:\n",
        "    change_brightness(path1)\n",
        "  elif choice == 2:\n",
        "    change_contrast(path1)\n",
        "  elif choice == 3:\n",
        "    print('1. Flip horizontally')\n",
        "    print('2. Flip vertically')\n",
        "    choice = int(input('Choose type of flip you want: '))\n",
        "    if choice == 1:\n",
        "      flip_horizontally(path1)\n",
        "    elif choice == 2:\n",
        "      flip_vertically(path1)\n",
        "    else: \n",
        "      print('Error!')\n",
        "      return 0;\n",
        "  elif choice == 4:\n",
        "    grayscale(path1)\n",
        "  elif choice == 5:\n",
        "    path2 = input('Enter path of second picture: ')\n",
        "    add_img(path1, path2)\n",
        "  elif choice == 6:\n",
        "    blur(path1)\n",
        "  else:\n",
        "    print('Error!')\n",
        "    return 0;\n",
        "  \n",
        "  print(\"Success!\")"
      ],
      "metadata": {
        "id": "1S0ZIDm2nQyj"
      },
      "execution_count": 9,
      "outputs": []
    },
    {
      "cell_type": "code",
      "source": [
        "main()"
      ],
      "metadata": {
        "id": "z8O5-SLf_pw5"
      },
      "execution_count": null,
      "outputs": []
    }
  ]
}